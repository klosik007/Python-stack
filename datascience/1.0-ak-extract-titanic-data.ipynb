{
 "cells": [
  {
   "cell_type": "markdown",
   "metadata": {},
   "source": [
    "## Extracting Titanic Disaster Data From Kaggle"
   ]
  },
  {
   "cell_type": "code",
   "execution_count": 1,
   "metadata": {},
   "outputs": [
    {
     "name": "stdout",
     "output_type": "stream",
     "text": [
      "Collecting python-dotenv\n",
      "Requirement already satisfied (use --upgrade to upgrade): click>=5.0 in c:\\program files\\anaconda2\\lib\\site-packages (from python-dotenv)\n",
      "Installing collected packages: python-dotenv\n",
      "Successfully installed python-dotenv-0.6.2\n"
     ]
    },
    {
     "name": "stderr",
     "output_type": "stream",
     "text": [
      "You are using pip version 8.1.2, however version 9.0.1 is available.\n",
      "You should consider upgrading via the 'python -m pip install --upgrade pip' command.\n"
     ]
    }
   ],
   "source": [
    "!pip install python-dotenv"
   ]
  },
  {
   "cell_type": "code",
   "execution_count": 2,
   "metadata": {
    "collapsed": true
   },
   "outputs": [],
   "source": [
    "from dotenv import load_dotenv, find_dotenv"
   ]
  },
  {
   "cell_type": "code",
   "execution_count": 3,
   "metadata": {},
   "outputs": [
    {
     "data": {
      "text/plain": [
       "True"
      ]
     },
     "execution_count": 3,
     "metadata": {},
     "output_type": "execute_result"
    }
   ],
   "source": [
    "# find .env automatically by walking up directories until it's found\n",
    "dotenv_path = find_dotenv()\n",
    "# load up the entries as environment variables\n",
    "load_dotenv(dotenv_path)"
   ]
  },
  {
   "cell_type": "code",
   "execution_count": 4,
   "metadata": {},
   "outputs": [
    {
     "name": "stdout",
     "output_type": "stream",
     "text": [
      "pslearn\n"
     ]
    }
   ],
   "source": [
    "# extracting environment variable using os.environ.get\n",
    "import os\n",
    "KAGGLE_USERNAME = os.environ.get(\"KAGGLE_USERNAME\")\n",
    "print(KAGGLE_USERNAME)"
   ]
  },
  {
   "cell_type": "code",
   "execution_count": 2,
   "metadata": {},
   "outputs": [],
   "source": [
    "# imports\n",
    "import requests\n",
    "from requests import session\n",
    "import os\n",
    "from dotenv import load_dotenv, find_dotenv"
   ]
  },
  {
   "cell_type": "code",
   "execution_count": 3,
   "metadata": {},
   "outputs": [
    {
     "name": "stdout",
     "output_type": "stream",
     "text": [
      "<!DOCTYPE html>\r\n<html>\r\n<head>\r\n    <title>Kaggle: Your Home for Data Science</title>\r\n    <meta charset=\"utf-8\" />\r\n    <meta name=\"robots\" content=\"index, follow\"/>\r\n    <meta name=\"theme-color\" content=\"#008ABC\" />\r\n    <link rel=\"dns-prefetch\" href=\"https://www.google-analytics.com\" /><link rel=\"dns-prefetch\" href=\"https://stats.g.doubleclick.net\" /><link rel=\"dns-prefetch\" href=\"https://js.intercomcdn.com\" /><link rel=\"preload\" href=\"https://az416426.vo.msecnd.net/scripts/a/ai.0.js\" as=script /><link rel=\"dns-prefetch\" href=\"https://kaggle2.blob.core.windows.net\" />\r\n    <link href=\"/content/v/d420a040e581/kaggle/favicon.ico\" rel=\"shortcut icon\" type=\"image/x-icon\" />\r\n    <link rel=\"manifest\" href=\"/static/json/manifest.json\">\r\n    <link href=\"//fonts.googleapis.com/css?family=Open+Sans:400,300,300italic,400italic,600,600italic,700,700italic\" rel='stylesheet' type='text/css'>\r\n                    <link rel=\"stylesheet\" type=\"text/css\" href=\"/static/assets/vendor.css?v=72f4ef2ebe4f\"/>\r\n        <link rel=\"stylesheet\" type=\"text/css\" href=\"/static/assets/app.css?v=4dc737d45e59\"/>\r\n        <script>\r\n            \r\n            (function () {\r\n                var originalError = window.onerror;\r\n\r\n                window.onerror = function (message, url, lineNumber, columnNumber, error) {\r\n                    var handled = originalError && originalError(message, url, lineNumber, columnNumber, error);\r\n                    var blockedByCors = message && message.toLowerCase().indexOf(\"script error\") >= 0;\r\n                    return handled || blockedByCors;\r\n                };\r\n            })();\r\n        </script>\r\n    <script>\r\n        var appInsights=window.appInsights||function(config){\r\n        function i(config){t[config]=function(){var i=arguments;t.queue.push(function(){t[config].apply(t,i)})}}var t={config:config},u=document,e=window,o=\"script\",s=\"AuthenticatedUserContext\",h=\"start\",c=\"stop\",l=\"Track\",a=l+\"Event\",v=l+\"Page\",y=u.createElement(o),r,f;y.src=config.url||\"https://az416426.vo.msecnd.net/scripts/a/ai.0.js\";u.getElementsByTagName(o)[0].parentNode.appendChild(y);try{t.cookie=u.cookie}catch(p){}for(t.queue=[],t.version=\"1.0\",r=[\"Event\",\"Exception\",\"Metric\",\"PageView\",\"Trace\",\"Dependency\"];r.length;)i(\"track\"+r.pop());return i(\"set\"+s),i(\"clear\"+s),i(h+a),i(c+a),i(h+v),i(c+v),i(\"flush\"),config.disableExceptionTracking||(r=\"onerror\",i(\"_\"+r),f=e[r],e[r]=function(config,i,u,e,o){var s=f&&f(config,i,u,e,o);return s!==!0&&t[\"_\"+r](config,i,u,e,o),s}),t\r\n        }({\r\n            instrumentationKey:\"5b3d6014-f021-4304-8366-3cf961d5b90f\",\r\n            disableAjaxTracking: true\r\n        });\r\n        window.appInsights=appInsights;\r\n        appInsights.trackPageView();\r\n    </script>\r\n    \r\n    \r\n    \r\n \r\n    \r\n    <script>\r\n    window.ga = window.ga || function () { (ga.q = ga.q || []).push(arguments) }; ga.l = +new Date;\r\n    ga('create', 'UA-12629138-1', 'auto');\r\n    ga('set', 'displayFeaturesTask', null);\r\n    ga('send', 'pageview');\r\n    </script>\r\n    <script async src=\"https://www.google-analytics.com/analytics.js\"></script>\r\n\r\n    \r\n<script>\r\n    !function(f,b,e,v,n,t,s)\r\n    {if(f.fbq)return;n=f.fbq=function(){n.callMethod?\r\n            n.callMethod.apply(n,arguments):n.queue.push(arguments)};\r\n        if(!f._fbq)f._fbq=n;n.push=n;n.loaded=!0;n.version='2.0';\r\n        n.queue=[];t=b.createElement(e);t.async=!0;\r\n        t.src=v;s=b.getElementsByTagName(e)[0];\r\n        s.parentNode.insertBefore(t,s)}(window,document,'script',\r\n        'https://connect.facebook.net/en_US/fbevents.js');\r\n    fbq(\"set\", \"autoConfig\", \"false\", \"136809193586742\");\r\n    fbq('init', '136809193586742'); \r\n    fbq('track', 'PageView');\r\n</script>\r\n<noscript>\r\n    <img height=\"1\" width=\"1\" src=\"https://www.facebook.com/tr?id=136809193586742&ev=PageView&noscript=1\"/>\r\n</noscript>\r\n\r\n    \r\n\r\n    <script>\r\n          window.intercomSettings = {\r\n            app_id: \"koj6gxx6\"\r\n          };\r\n    </script>\r\n<script>(function(){var w=window;var ic=w.Intercom;if(typeof ic===\"function\"){ic('reattach_activator');ic('update',intercomSettings);}else{var d=document;var i=function(){i.c(arguments)};i.q=[];i.c=function(args){i.q.push(args)};w.Intercom=i;function l(){var s=d.createElement('script');s.type='text/javascript';s.async=true;s.src='https://widget.intercom.io/widget/koj6gxx6';var x=d.getElementsByTagName('script')[0];x.parentNode.insertBefore(s,x);}if(w.attachEvent){w.attachEvent('onload',l);}else{w.addEventListener('load',l,false);}}})()</script>\r\n    \r\n    \r\n\r\n    \r\n    \r\n\r\n    <script src=\"/static/assets/manifest.js?v=47a28ec84654\"></script>\n<script src=\"/static/assets/vendor.js?v=09a732b49af3\"></script>\r\n</head>\r\n<body>\r\n    \r\n\r\n\r\n\r\n\r\n\r\n\r\n\r\n<div class=\"site-layout\">\r\n\r\n    <div class=\"site-layout__main-content\">\r\n        \r\n\r\n\r\n\r\n<div data-component-name=\"LoginPage\"></div><script>var Kaggle=window.Kaggle||{};Kaggle.State=Kaggle.State||[];Kaggle.State.push({\"errors\":[]});performance && performance.mark && performance.mark(\"LoginPage.componentCouldBootstrap\");</script>\r\n\r\n    </div>\r\n\r\n</div>\r\n\r\n\r\n\r\n<script type=\"text/javascript\">\r\n    var Kaggle = Kaggle || {};\r\n\r\n    Kaggle.Current = {\r\n        hasJupyterNotebookEditor: true,\r\n        hasEnvironmentVariables: false,\r\n        hasInteractiveScripts: false,\r\n        hasStandaloneKernelProxy: true,\r\n        hasKernelsAsDataSources: true,\r\n        antiForgeryToken: '76ed3dP58ud1cCdSESOMapdsINKm2icnppEUgrL0gaNsJOv0switKjVaiHh-nizXidxgjZFT9Tn-MuYPGe4_uJZlEQA1',\r\n        isAnonymous: true,\r\n        isFullScreen: false,\r\n        \r\n        \r\n        \r\n        \r\n        \r\n        \r\n        \r\n        \r\n    }\r\n        Kaggle.Current.log = function(){};\r\n        Kaggle.Current.warn = function(){};\r\n    var decodeUserDisplayName = function () {\r\n        var escapedUserDisplayName = Kaggle.Current.userDisplayNameEscaped || \"\";\r\n        try {\r\n          var textVersion = new DOMParser().parseFromString(escapedUserDisplayName, \"text/html\").documentElement.textContent;\r\n          if (textVersion) {\r\n              return textVersion;\r\n          }\r\n        } catch(ex) {}\r\n        \r\n        return escapedUserDisplayName;\r\n    }\r\n    Kaggle.Current.userDisplayName = decodeUserDisplayName();\r\n</script>\r\n\r\n\r\n\r\n\r\n\r\n<script type=\"text/javascript\">\r\n    var Kaggle = Kaggle || {};\r\n    Kaggle.PageMessages = [];\r\n</script>\r\n\r\n\r\n<script src=\"/content/v/5dbea6ee9ce1/shared/js/kaggle.prism.min.js\"></script>\n\r\n\r\n\r\n\r\n\r\n\r\n\r\n\r\n\r\n\r\n    <script src=\"/static/assets/app.js?v=c312d0372c3e\"></script>\r\n    \r\n        <script>\r\n            (function() {\r\n                if ('serviceWorker' in navigator) {\r\n                    \r\n                    navigator.serviceWorker.register(\"/static/assets/service-worker.js\").then(function(reg) {\r\n                        \r\n                        reg.onupdatefound = function() {\r\n                            \r\n                            var installingWorker = reg.installing;\r\n                            installingWorker.onstatechange = function() {\r\n                                switch (installingWorker.state) {\r\n                                case 'installed':\r\n                                    if (navigator.serviceWorker.controller) {\r\n                                        \r\n                                        console.log('New or updated content is available.');\r\n                                    } else {\r\n                                        \r\n                                        console.log('Content is now available offline!');\r\n                                    }\r\n                                    break;\r\n                                case 'redundant':\r\n                                    console.error('The installing service worker became redundant.');\r\n                                    break;\r\n                                }\r\n                            };\r\n                        };\r\n                    }).catch(function(e) {\r\n                      console.error('Error during service worker registration:', e);\r\n                    });\r\n                }\r\n            })();\r\n        </script>\r\n</body>\r\n</html>\r\n\n"
     ]
    }
   ],
   "source": [
    "# payload for post \n",
    "payload = {\n",
    "    'action': 'login',\n",
    "    'username': os.environ.get(\"KAGGLE_USERNAME\"),\n",
    "    'password': os.environ.get(\"KAGGLE_PASSWORD\")\n",
    "}\n",
    "\n",
    "# url for train file (get the link from Kaggle website)\n",
    "url = 'https://www.kaggle.com/c/titanic/download/train.csv'\n",
    "\n",
    "\n",
    "# setup session\n",
    "with session() as c:\n",
    "    # post request\n",
    "    c.post('https://www.kaggle.com/account/login', data=payload)\n",
    "    # get request\n",
    "    response = c.get(url)\n",
    "    # print response text\n",
    "    print(response.text)"
   ]
  },
  {
   "cell_type": "code",
   "execution_count": 5,
   "metadata": {
    "scrolled": true
   },
   "outputs": [],
   "source": [
    "from requests import session\n",
    "# payload\n",
    "payload = {\n",
    "    'action': 'login',\n",
    "    'username': os.environ.get(\"KAGGLE_USERNAME\"),\n",
    "    'password': os.environ.get(\"KAGGLE_PASSWORD\")\n",
    "}\n",
    "\n",
    "\n",
    "def extract_data(url, file_path):\n",
    "    '''\n",
    "    extract data from kaggle\n",
    "    '''\n",
    "    # setup session\n",
    "    with session() as c:\n",
    "        c.post('https://www.kaggle.com/account/login', data=payload)\n",
    "        # oppen file to write\n",
    "        with open(file_path, 'w') as handle:\n",
    "            response = c.get(url, stream=True)\n",
    "            for block in response.iter_content(1024):\n",
    "                handle.write(block)\n"
   ]
  },
  {
   "cell_type": "code",
   "execution_count": 6,
   "metadata": {
    "collapsed": true
   },
   "outputs": [
    {
     "ename": "IOError",
     "evalue": "[Errno 2] No such file or directory: '..\\\\data\\\\raw\\\\train.csv'",
     "traceback": [
      "\u001b[1;31m---------------------------------------------------------------------------\u001b[0m",
      "\u001b[1;31mIOError\u001b[0m                                   Traceback (most recent call last)",
      "\u001b[1;32m<ipython-input-6-11efa71ce24d>\u001b[0m in \u001b[0;36m<module>\u001b[1;34m()\u001b[0m\n\u001b[0;32m      9\u001b[0m \u001b[1;33m\u001b[0m\u001b[0m\n\u001b[0;32m     10\u001b[0m \u001b[1;31m# extract data\u001b[0m\u001b[1;33m\u001b[0m\u001b[1;33m\u001b[0m\u001b[0m\n\u001b[1;32m---> 11\u001b[1;33m \u001b[0mextract_data\u001b[0m\u001b[1;33m(\u001b[0m\u001b[0mtrain_url\u001b[0m\u001b[1;33m,\u001b[0m\u001b[0mtrain_data_path\u001b[0m\u001b[1;33m)\u001b[0m\u001b[1;33m\u001b[0m\u001b[0m\n\u001b[0m\u001b[0;32m     12\u001b[0m \u001b[0mextract_data\u001b[0m\u001b[1;33m(\u001b[0m\u001b[0mtest_url\u001b[0m\u001b[1;33m,\u001b[0m\u001b[0mtest_data_path\u001b[0m\u001b[1;33m)\u001b[0m\u001b[1;33m\u001b[0m\u001b[0m\n",
      "\u001b[1;32m<ipython-input-5-b545d8fb18f0>\u001b[0m in \u001b[0;36mextract_data\u001b[1;34m(url, file_path)\u001b[0m\n\u001b[0;32m     16\u001b[0m         \u001b[0mc\u001b[0m\u001b[1;33m.\u001b[0m\u001b[0mpost\u001b[0m\u001b[1;33m(\u001b[0m\u001b[1;34m'https://www.kaggle.com/account/login'\u001b[0m\u001b[1;33m,\u001b[0m \u001b[0mdata\u001b[0m\u001b[1;33m=\u001b[0m\u001b[0mpayload\u001b[0m\u001b[1;33m)\u001b[0m\u001b[1;33m\u001b[0m\u001b[0m\n\u001b[0;32m     17\u001b[0m         \u001b[1;31m# oppen file to write\u001b[0m\u001b[1;33m\u001b[0m\u001b[1;33m\u001b[0m\u001b[0m\n\u001b[1;32m---> 18\u001b[1;33m         \u001b[1;32mwith\u001b[0m \u001b[0mopen\u001b[0m\u001b[1;33m(\u001b[0m\u001b[0mfile_path\u001b[0m\u001b[1;33m,\u001b[0m \u001b[1;34m'w'\u001b[0m\u001b[1;33m)\u001b[0m \u001b[1;32mas\u001b[0m \u001b[0mhandle\u001b[0m\u001b[1;33m:\u001b[0m\u001b[1;33m\u001b[0m\u001b[0m\n\u001b[0m\u001b[0;32m     19\u001b[0m             \u001b[0mresponse\u001b[0m \u001b[1;33m=\u001b[0m \u001b[0mc\u001b[0m\u001b[1;33m.\u001b[0m\u001b[0mget\u001b[0m\u001b[1;33m(\u001b[0m\u001b[0murl\u001b[0m\u001b[1;33m,\u001b[0m \u001b[0mstream\u001b[0m\u001b[1;33m=\u001b[0m\u001b[0mTrue\u001b[0m\u001b[1;33m)\u001b[0m\u001b[1;33m\u001b[0m\u001b[0m\n\u001b[0;32m     20\u001b[0m             \u001b[1;32mfor\u001b[0m \u001b[0mblock\u001b[0m \u001b[1;32min\u001b[0m \u001b[0mresponse\u001b[0m\u001b[1;33m.\u001b[0m\u001b[0miter_content\u001b[0m\u001b[1;33m(\u001b[0m\u001b[1;36m1024\u001b[0m\u001b[1;33m)\u001b[0m\u001b[1;33m:\u001b[0m\u001b[1;33m\u001b[0m\u001b[0m\n",
      "\u001b[1;31mIOError\u001b[0m: [Errno 2] No such file or directory: '..\\\\data\\\\raw\\\\train.csv'"
     ],
     "output_type": "error"
    }
   ],
   "source": [
    "# urls\n",
    "train_url = 'https://www.kaggle.com/c/titanic/download/train.csv'\n",
    "test_url = 'https://www.kaggle.com/c/titanic/download/test.csv'\n",
    "\n",
    "# file paths\n",
    "raw_data_path = os.path.join(os.path.pardir,'data','raw')\n",
    "train_data_path = os.path.join(raw_data_path, 'train.csv')\n",
    "test_data_path = os.path.join(raw_data_path, 'test.csv')\n",
    "\n",
    "# extract data\n",
    "extract_data(train_url,train_data_path)\n",
    "extract_data(test_url,test_data_path)"
   ]
  },
  {
   "cell_type": "code",
   "execution_count": 9,
   "metadata": {},
   "outputs": [
    {
     "name": "stdout",
     "output_type": "stream",
     "text": [
      "total 96\n",
      "-rw-r--r-- 1 Dev 197613 29048 Jan 25 19:35 test.csv\n",
      "-rw-r--r-- 1 Dev 197613 62086 Jan 25 19:34 train.csv\n"
     ]
    }
   ],
   "source": [
    "!ls -l ../data/raw"
   ]
  },
  {
   "cell_type": "markdown",
   "metadata": {},
   "source": [
    "### Builiding the file script"
   ]
  },
  {
   "cell_type": "code",
   "execution_count": 10,
   "metadata": {},
   "outputs": [],
   "source": [
    "get_raw_data_script_file = os.path.join(os.path.pardir,'src','data','get_raw_data.py')"
   ]
  },
  {
   "cell_type": "code",
   "execution_count": 11,
   "metadata": {},
   "outputs": [
    {
     "name": "stdout",
     "output_type": "stream",
     "text": [
      "Overwriting ..\\src\\data\\get_raw_data.py\n"
     ]
    }
   ],
   "source": [
    "%%writefile $get_raw_data_script_file\n",
    "# -*- coding: utf-8 -*-\n",
    "import os\n",
    "from dotenv import find_dotenv, load_dotenv\n",
    "from requests import session\n",
    "import logging\n",
    "\n",
    "\n",
    "# payload for login to kaggle\n",
    "payload = {\n",
    "    'action': 'login',\n",
    "    'username': os.environ.get(\"KAGGLE_USERNAME\"),\n",
    "    'password': os.environ.get(\"KAGGLE_PASSWORD\")\n",
    "}\n",
    "\n",
    "\n",
    "def extract_data(url, file_path):\n",
    "    '''\n",
    "    method to extract data\n",
    "    '''\n",
    "    with session() as c:\n",
    "        c.post('https://www.kaggle.com/account/login', data=payload)\n",
    "        with open(file_path, 'w') as handle:\n",
    "            response = c.get(url, stream=True)\n",
    "            for block in response.iter_content(1024):\n",
    "                handle.write(block)\n",
    "\n",
    "\n",
    "                \n",
    "def main(project_dir):\n",
    "    '''\n",
    "    main method\n",
    "    '''\n",
    "    # get logger\n",
    "    logger = logging.getLogger(__name__)\n",
    "    logger.info('getting raw data')\n",
    "    \n",
    "    # urls\n",
    "    train_url = 'https://www.kaggle.com/c/titanic/download/train.csv'\n",
    "    test_url = 'https://www.kaggle.com/c/titanic/download/test.csv'\n",
    "\n",
    "    # file paths\n",
    "    raw_data_path = os.path.join(project_dir,'data','raw')\n",
    "    train_data_path = os.path.join(raw_data_path, 'train.csv')\n",
    "    test_data_path = os.path.join(raw_data_path, 'test.csv')\n",
    "\n",
    "    # extract data\n",
    "    extract_data(train_url,train_data_path)\n",
    "    extract_data(test_url,test_data_path)\n",
    "    logger.info('downloaded raw training and test data')\n",
    "\n",
    "\n",
    "if __name__ == '__main__':\n",
    "    # getting root directory\n",
    "    project_dir = os.path.join(os.path.dirname(__file__), os.pardir, os.pardir)\n",
    "    \n",
    "    # setup logger\n",
    "    log_fmt = '%(asctime)s - %(name)s - %(levelname)s - %(message)s'\n",
    "    logging.basicConfig(level=logging.INFO, format=log_fmt)\n",
    "\n",
    "    # find .env automatically by walking up directories until it's found\n",
    "    dotenv_path = find_dotenv()\n",
    "    # load up the entries as environment variables\n",
    "    load_dotenv(dotenv_path)\n",
    "\n",
    "    # call the main\n",
    "    main(project_dir)\n"
   ]
  },
  {
   "cell_type": "code",
   "execution_count": 12,
   "metadata": {},
   "outputs": [
    {
     "name": "stderr",
     "output_type": "stream",
     "text": [
      "2017-01-25 19:44:58,434 - __main__ - INFO - getting raw data\n",
      "2017-01-25 19:45:11,618 - __main__ - INFO - downloaded raw training and test data\n"
     ]
    }
   ],
   "source": [
    "!python $get_raw_data_script_file"
   ]
  },
  {
   "cell_type": "code",
   "execution_count": null,
   "metadata": {
    "collapsed": true
   },
   "outputs": [],
   "source": []
  }
 ],
 "metadata": {
  "anaconda-cloud": {},
  "hide_input": false,
  "kernelspec": {
   "display_name": "Python 2",
   "language": "python",
   "name": "python2"
  },
  "language_info": {
   "codemirror_mode": {
    "name": "ipython",
    "version": 2
   },
   "file_extension": ".py",
   "mimetype": "text/x-python",
   "name": "python",
   "nbconvert_exporter": "python",
   "pygments_lexer": "ipython2",
   "version": "2.7.14"
  },
  "toc": {
   "nav_menu": {
    "height": "84px",
    "width": "252px"
   },
   "navigate_menu": true,
   "number_sections": false,
   "sideBar": true,
   "threshold": 4.0,
   "toc_cell": false,
   "toc_section_display": "block",
   "toc_window_display": false
  }
 },
 "nbformat": 4,
 "nbformat_minor": 1
}
